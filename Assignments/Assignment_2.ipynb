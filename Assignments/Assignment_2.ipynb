{
  "nbformat": 4,
  "nbformat_minor": 0,
  "metadata": {
    "colab": {
      "provenance": []
    },
    "kernelspec": {
      "name": "python3",
      "display_name": "Python 3"
    },
    "language_info": {
      "name": "python"
    }
  },
  "cells": [
    {
      "cell_type": "markdown",
      "source": [
        "**Write a Python function to perform linear search on a list**"
      ],
      "metadata": {
        "id": "zICmOr3xM7P3"
      }
    },
    {
      "cell_type": "code",
      "source": [],
      "metadata": {
        "id": "OHAie4ZsNkge"
      },
      "execution_count": null,
      "outputs": []
    },
    {
      "cell_type": "markdown",
      "source": [
        "**Modify the function to return the index of all occurrences of the search element.\n",
        "t**"
      ],
      "metadata": {
        "id": "9gt2NeSINAee"
      }
    },
    {
      "cell_type": "code",
      "source": [],
      "metadata": {
        "id": "Drr34lZZNlcd"
      },
      "execution_count": null,
      "outputs": []
    },
    {
      "cell_type": "markdown",
      "source": [
        "**Create a program to find the maximum element in a list using linear search.**"
      ],
      "metadata": {
        "id": "15VW81ZmNnYt"
      }
    },
    {
      "cell_type": "code",
      "source": [],
      "metadata": {
        "id": "Cv04SYmZNvfU"
      },
      "execution_count": null,
      "outputs": []
    },
    {
      "cell_type": "markdown",
      "source": [
        "**Implement binary search iteratively in Python**"
      ],
      "metadata": {
        "id": "CC1d9lWHNy4G"
      }
    },
    {
      "cell_type": "code",
      "source": [],
      "metadata": {
        "id": "qNlprj2ON2sN"
      },
      "execution_count": null,
      "outputs": []
    },
    {
      "cell_type": "markdown",
      "source": [
        "**Implement binary search recursively in Python**"
      ],
      "metadata": {
        "id": "zdFByPpjN9VF"
      }
    },
    {
      "cell_type": "code",
      "source": [],
      "metadata": {
        "id": "-ukDAxmLOAh9"
      },
      "execution_count": null,
      "outputs": []
    },
    {
      "cell_type": "markdown",
      "source": [
        "**Write a program to check if a list is sorted in ascending order using binary search**"
      ],
      "metadata": {
        "id": "XfCbhOl7ODkc"
      }
    },
    {
      "cell_type": "code",
      "source": [],
      "metadata": {
        "id": "f4I1O1IhOGEd"
      },
      "execution_count": null,
      "outputs": []
    },
    {
      "cell_type": "markdown",
      "source": [
        "**Write a Python program to calculate the factorial of a number using a for loop**"
      ],
      "metadata": {
        "id": "5AxShFTYOI90"
      }
    },
    {
      "cell_type": "code",
      "source": [],
      "metadata": {
        "id": "klPJU-ktOL99"
      },
      "execution_count": null,
      "outputs": []
    },
    {
      "cell_type": "markdown",
      "source": [
        "**Create a program to generate the Fibonacci sequence up to a certain number of terms using a for loop**"
      ],
      "metadata": {
        "id": "zSD3eH32OOzk"
      }
    },
    {
      "cell_type": "code",
      "source": [],
      "metadata": {
        "id": "dz4mWwn-OSG0"
      },
      "execution_count": null,
      "outputs": []
    },
    {
      "cell_type": "markdown",
      "source": [
        "**Write a function to compute the sum of all elements in a list using a for loop**"
      ],
      "metadata": {
        "id": "e7q768hsOUvs"
      }
    },
    {
      "cell_type": "code",
      "source": [],
      "metadata": {
        "id": "hbJ3q5GDOXc0"
      },
      "execution_count": null,
      "outputs": []
    },
    {
      "cell_type": "markdown",
      "source": [
        "**Write a Python function to check if a number is prime**"
      ],
      "metadata": {
        "id": "Xc87j9nmObmM"
      }
    },
    {
      "cell_type": "code",
      "source": [],
      "metadata": {
        "id": "VmxNLFacOfFk"
      },
      "execution_count": null,
      "outputs": []
    },
    {
      "cell_type": "markdown",
      "source": [
        "**Create a function to reverse a string using recursion**"
      ],
      "metadata": {
        "id": "fPpLblWXOhDU"
      }
    },
    {
      "cell_type": "code",
      "source": [],
      "metadata": {
        "id": "ysB4Q620Oj40"
      },
      "execution_count": null,
      "outputs": []
    },
    {
      "cell_type": "markdown",
      "source": [
        "**Write a program that takes a list of integers and returns the largest number using a function**"
      ],
      "metadata": {
        "id": "4qLP9xYTOltk"
      }
    },
    {
      "cell_type": "code",
      "source": [],
      "metadata": {
        "id": "9wJQseoeOnis"
      },
      "execution_count": null,
      "outputs": []
    },
    {
      "cell_type": "markdown",
      "source": [
        "**Implement selection sort using a function and demonstrate its usage**"
      ],
      "metadata": {
        "id": "2ds4zQmGOpv0"
      }
    },
    {
      "cell_type": "code",
      "source": [],
      "metadata": {
        "id": "rYSs7DnOasEJ"
      },
      "execution_count": null,
      "outputs": []
    },
    {
      "cell_type": "markdown",
      "source": [
        "**Create a program that uses a function to find the intersection of two lists.**"
      ],
      "metadata": {
        "id": "9d9LdXoRatvh"
      }
    },
    {
      "cell_type": "code",
      "source": [],
      "metadata": {
        "id": "r09e5Opsaw8Z"
      },
      "execution_count": null,
      "outputs": []
    }
  ]
}